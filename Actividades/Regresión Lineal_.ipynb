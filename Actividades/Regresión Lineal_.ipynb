# Actividad 3: Solución de Problemas
# Juan Carlos Serrano Acosta
# 2001047 N1
#Cargar Librerías.
import numpy as np
from sklearn.model_selection import train_test_split
from sklearn.linear_model import LinearRegression
from sklearn.metrics import mean_squared_error
import matplotlib.pyplot as plt

#Cargar datos.
np.random.seed(0)
horas_estudio = np.random.rand(100, 1) * 10
calificaciones = 2 * horas_estudio + np.random.randn(100, 1) * 2

#Prerpocesamiento de datos.
train_data, test_data, train_labels, test_labels = train_test_split(horas_estudio, calificaciones, test_size=0.2, random_state=42)

#Selección y entrenamiento del modelo.
    # Regresión lineal
model = LinearRegression()
model.fit(train_data, train_labels)

#Prueba del modelo.
    # Predicciones con los datos de prueba
predicciones = model.predict(test_data)
    # Error cuadrático medio
mse = mean_squared_error(test_labels, predicciones)
print("Error cuadrático medio:", mse)
    # Grafica
plt.scatter(test_data, test_labels, color='blue')
plt.plot(test_data, predicciones, color='red')
plt.title('Modelo de Regresión Lineal')
plt.xlabel('Horas de Estudio')
plt.ylabel('Calificaciones')
plt.show()
